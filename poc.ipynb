{
 "cells": [
  {
   "cell_type": "markdown",
   "metadata": {},
   "source": [
    "# Proof of Concept for the CTF Time API integration\n",
    "\n",
    "This program retrieves a list of future CTF events from the CTFtime API, cleans and processes the data, and saves it to an Excel file. The program is written in Python and uses the http.client, json, pandas, and os libraries.\n",
    "\n",
    "## Imports"
   ]
  },
  {
   "cell_type": "code",
   "execution_count": 1,
   "metadata": {},
   "outputs": [],
   "source": [
    "# Importing the necessary libraries\n",
    "import http.client\n",
    "import datetime\n",
    "import json\n",
    "import pandas as pd\n",
    "import os"
   ]
  },
  {
   "cell_type": "markdown",
   "metadata": {},
   "source": [
    "## Variables\n",
    "\n",
    "Define in the cell below the variables required for this program. In the final project those variables should be parametrized within the program or defined has environnement vairables depending on the running environnement."
   ]
  },
  {
   "cell_type": "code",
   "execution_count": 2,
   "metadata": {},
   "outputs": [],
   "source": [
    "# Variables\n",
    "days = 30 # Day limit: the code will browse for CTFs from today until the given limit \n",
    "restriction_list = ['Open', 'Individual', 'High-school'] # Filter the CTF you're interested in depending on the restriction types\n",
    "useless_columns = ['ctf_id','weight', 'logo', 'live_feed', 'format', 'participants', 'public_votable', 'is_votable_now', 'prizes', 'organizers', 'format_id', 'duration', 'onsite', 'location', 'ctftime_url', 'restrictions'] # Columns you don't need for your integration\n",
    "artifact_location = \"\\\\artifacts\\\\events.xlsx\"\n",
    "team_id = \"216659\"\n",
    "\n",
    "# Get current working directory\n",
    "cwd = os.getcwd()\n",
    "# Concatenate the final file path\n",
    "file_path = cwd+artifact_location"
   ]
  },
  {
   "cell_type": "markdown",
   "metadata": {},
   "source": [
    "# Retrieving Future Events\n",
    "\n",
    "This function takes a single argument day_limit, which specifies the number of days in the future to retrieve events for. The function sends a GET request to the CTFtime API with the appropriate parameters and retrieves the JSON response. The response is then parsed and returned as a list of dictionaries containing the event data."
   ]
  },
  {
   "cell_type": "code",
   "execution_count": 3,
   "metadata": {},
   "outputs": [
    {
     "name": "stdout",
     "output_type": "stream",
     "text": [
      "Retrieved 4 CTFs for the next 30 days\n"
     ]
    }
   ],
   "source": [
    "def get_future_events(day_limit):\n",
    "    # Get the current date and time\n",
    "    now = datetime.datetime.now(datetime.UTC)\n",
    "\n",
    "    # Calculate the start and finish timestamps\n",
    "    start_timestamp = int(now.timestamp())\n",
    "    finish_timestamp = int((now + datetime.timedelta(days=day_limit)).replace(tzinfo=datetime.timezone.utc).timestamp())\n",
    "\n",
    "    # Set the API endpoint and parameters\n",
    "    url = '/api/v1/events/'\n",
    "    params = {\n",
    "        'limit': 500,\n",
    "        'start': start_timestamp,\n",
    "        'finish': finish_timestamp\n",
    "    }\n",
    "\n",
    "    # Build the query string\n",
    "    query_string = '?' + '&'.join([f'{key}={value}' for key, value in params.items()])\n",
    "\n",
    "    # Create an HTTPS connection to the CTFtime API\n",
    "    conn = http.client.HTTPSConnection('ctftime.org')\n",
    "\n",
    "    # Send a GET request to the API endpoint\n",
    "    conn.request('GET', url + query_string)\n",
    "\n",
    "    # Get the response from the API\n",
    "    response = conn.getresponse()\n",
    "\n",
    "    # Read the response body\n",
    "    data = response.read().decode('utf-8')\n",
    "\n",
    "    # Parse the JSON data\n",
    "    return json.loads(data)\n",
    "\n",
    "events = get_future_events(day_limit=days)\n",
    "print(f\"Retrieved {len(events)} CTFs for the next {days} days\")\n",
    "\n"
   ]
  },
  {
   "cell_type": "markdown",
   "metadata": {},
   "source": [
    "## Cleaning The Response\n",
    "\n",
    "This function takes three arguments:\n",
    "\n",
    "- `events_df`: The DataFrame containing the event data.\n",
    "- `restriction_list`: The list of allowed restrictions for the events.\n",
    "- `useless_columns`: The list of columns to drop from the DataFrame.\n",
    "\n",
    "The function first extracts the organizer name from the organizer dictionary and stores it in a new column. It then computes the total duration of the event in hours and stores it in a new column. The function removes all onsite events and keeps only those events where the restrictions are in the specified restriction_list. It then adds a boolean column for each restriction in the restriction_list, indicating whether the event has that restriction. The function drops the useless columns specified in useless_columns and renames the id column to ctftime_id. The cleaned and processed DataFrame is then returned."
   ]
  },
  {
   "cell_type": "code",
   "execution_count": 4,
   "metadata": {},
   "outputs": [
    {
     "name": "stdout",
     "output_type": "stream",
     "text": [
      "After data cleaning we found 4 interesting CTFs for you.\n"
     ]
    }
   ],
   "source": [
    "def clean_events(events, restriction_list, useless_columns):\n",
    "    # Converting list to dataframme\n",
    "    events_df = pd.DataFrame(events)\n",
    "\n",
    "    # Extract organizer named from organizer dictionary\n",
    "    events_df['organizer_name'] = events_df['organizers'].apply(lambda x: x[0]['name'])\n",
    "\n",
    "    # Computing the total duration of the event in hours and store it in a new column\n",
    "    events_df['duration_hours'] = events_df['duration'].apply(lambda x: x['hours'] + x['days']*24)\n",
    "\n",
    "    # Removing all onsite events\n",
    "    events_df = events_df[events_df['onsite'] == False]\n",
    "\n",
    "    # Keep only ctf where restictions are in $restriction_list\n",
    "    events_df = events_df[events_df['restrictions'].apply(lambda x: x in restriction_list)]\n",
    "\n",
    "    for restriction in restriction_list:\n",
    "        # Add a boolean column named like the restriction that takes 1 if the value in restrictions is equal to the restriction\n",
    "        events_df[restriction.lower()] = events_df['restrictions'].apply(lambda x: x == restriction)\n",
    "\n",
    "    # Drop useless columns\n",
    "    events_df = events_df.drop(useless_columns, axis=1)\n",
    "\n",
    "    # Rename column id into ctftime_id\n",
    "    events_df = events_df.rename(columns={'id': 'ctftime_id'})\n",
    "\n",
    "    return events_df\n",
    "\n",
    "events_df = clean_events(events=events, restriction_list=restriction_list, useless_columns=useless_columns)    \n",
    "print(f\"After data cleaning we found {events_df.shape[0]} interesting CTFs for you.\")"
   ]
  },
  {
   "cell_type": "code",
   "execution_count": 5,
   "metadata": {},
   "outputs": [
    {
     "data": {
      "text/html": [
       "<div>\n",
       "<style scoped>\n",
       "    .dataframe tbody tr th:only-of-type {\n",
       "        vertical-align: middle;\n",
       "    }\n",
       "\n",
       "    .dataframe tbody tr th {\n",
       "        vertical-align: top;\n",
       "    }\n",
       "\n",
       "    .dataframe thead th {\n",
       "        text-align: right;\n",
       "    }\n",
       "</style>\n",
       "<table border=\"1\" class=\"dataframe\">\n",
       "  <thead>\n",
       "    <tr style=\"text-align: right;\">\n",
       "      <th></th>\n",
       "      <th>ctftime_id</th>\n",
       "      <th>title</th>\n",
       "      <th>start</th>\n",
       "      <th>finish</th>\n",
       "      <th>description</th>\n",
       "      <th>url</th>\n",
       "      <th>organizer_name</th>\n",
       "      <th>duration_hours</th>\n",
       "      <th>open</th>\n",
       "      <th>individual</th>\n",
       "      <th>high-school</th>\n",
       "    </tr>\n",
       "  </thead>\n",
       "  <tbody>\n",
       "    <tr>\n",
       "      <th>0</th>\n",
       "      <td>2582</td>\n",
       "      <td>New Year CTF 2025</td>\n",
       "      <td>2025-01-12T17:00:00+00:00</td>\n",
       "      <td>2025-01-14T17:00:00+00:00</td>\n",
       "      <td>We are students of the Department of System Pr...</td>\n",
       "      <td>http://ctf-spcs.mf.grsu.by/</td>\n",
       "      <td>Beavers0</td>\n",
       "      <td>48</td>\n",
       "      <td>True</td>\n",
       "      <td>False</td>\n",
       "      <td>False</td>\n",
       "    </tr>\n",
       "    <tr>\n",
       "      <th>1</th>\n",
       "      <td>2576</td>\n",
       "      <td>Srdnlen CTF 2025</td>\n",
       "      <td>2025-01-18T18:00:00+00:00</td>\n",
       "      <td>2025-01-19T18:00:00+00:00</td>\n",
       "      <td>Srdnlen CTF is a Jeopardy-style Capture-The-Fl...</td>\n",
       "      <td>https://ctf.srdnlen.it/</td>\n",
       "      <td>Srdnlen</td>\n",
       "      <td>24</td>\n",
       "      <td>True</td>\n",
       "      <td>False</td>\n",
       "      <td>False</td>\n",
       "    </tr>\n",
       "    <tr>\n",
       "      <th>2</th>\n",
       "      <td>2467</td>\n",
       "      <td>x3CTF 2025 (feat. mvm)</td>\n",
       "      <td>2025-01-24T18:00:00+00:00</td>\n",
       "      <td>2025-01-26T18:00:00+00:00</td>\n",
       "      <td>:3\\r\\n\\r\\njoin us for a cute little jeopardy-s...</td>\n",
       "      <td>https://x3c.tf/</td>\n",
       "      <td>x3CTF</td>\n",
       "      <td>48</td>\n",
       "      <td>True</td>\n",
       "      <td>False</td>\n",
       "      <td>False</td>\n",
       "    </tr>\n",
       "    <tr>\n",
       "      <th>3</th>\n",
       "      <td>2607</td>\n",
       "      <td>BITSCTF 2025</td>\n",
       "      <td>2025-02-07T12:00:00+00:00</td>\n",
       "      <td>2025-02-09T12:00:00+00:00</td>\n",
       "      <td>BITSCTF 2025 is a jeopardy style CTF held by B...</td>\n",
       "      <td>https://ctf.bitskrieg.in/</td>\n",
       "      <td>BITSkrieg</td>\n",
       "      <td>48</td>\n",
       "      <td>True</td>\n",
       "      <td>False</td>\n",
       "      <td>False</td>\n",
       "    </tr>\n",
       "  </tbody>\n",
       "</table>\n",
       "</div>"
      ],
      "text/plain": [
       "   ctftime_id                   title                      start  \\\n",
       "0        2582       New Year CTF 2025  2025-01-12T17:00:00+00:00   \n",
       "1        2576        Srdnlen CTF 2025  2025-01-18T18:00:00+00:00   \n",
       "2        2467  x3CTF 2025 (feat. mvm)  2025-01-24T18:00:00+00:00   \n",
       "3        2607            BITSCTF 2025  2025-02-07T12:00:00+00:00   \n",
       "\n",
       "                      finish  \\\n",
       "0  2025-01-14T17:00:00+00:00   \n",
       "1  2025-01-19T18:00:00+00:00   \n",
       "2  2025-01-26T18:00:00+00:00   \n",
       "3  2025-02-09T12:00:00+00:00   \n",
       "\n",
       "                                         description  \\\n",
       "0  We are students of the Department of System Pr...   \n",
       "1  Srdnlen CTF is a Jeopardy-style Capture-The-Fl...   \n",
       "2  :3\\r\\n\\r\\njoin us for a cute little jeopardy-s...   \n",
       "3  BITSCTF 2025 is a jeopardy style CTF held by B...   \n",
       "\n",
       "                           url organizer_name  duration_hours  open  \\\n",
       "0  http://ctf-spcs.mf.grsu.by/       Beavers0              48  True   \n",
       "1      https://ctf.srdnlen.it/        Srdnlen              24  True   \n",
       "2              https://x3c.tf/          x3CTF              48  True   \n",
       "3    https://ctf.bitskrieg.in/      BITSkrieg              48  True   \n",
       "\n",
       "   individual  high-school  \n",
       "0       False        False  \n",
       "1       False        False  \n",
       "2       False        False  \n",
       "3       False        False  "
      ]
     },
     "execution_count": 5,
     "metadata": {},
     "output_type": "execute_result"
    }
   ],
   "source": [
    "# Print all interesting events\n",
    "events_df"
   ]
  },
  {
   "cell_type": "markdown",
   "metadata": {},
   "source": [
    "## Find New Events\n",
    "\n",
    "This function takes two arguments:\n",
    "\n",
    "- `events_df`: The DataFrame containing the event data.\n",
    "- `file_path`: The list of allowed restrictions for the events.\n",
    "\n",
    "The goal here is to determine if an event has already been stored in the Excel or if the event retrieved isn't saved in Excel. This function should be used to alert user on the upcoming CTFs they don't already know.\n"
   ]
  },
  {
   "cell_type": "code",
   "execution_count": 6,
   "metadata": {},
   "outputs": [
    {
     "ename": "ImportError",
     "evalue": "Missing optional dependency 'openpyxl'.  Use pip or conda to install openpyxl.",
     "output_type": "error",
     "traceback": [
      "\u001b[1;31m---------------------------------------------------------------------------\u001b[0m",
      "\u001b[1;31mModuleNotFoundError\u001b[0m                       Traceback (most recent call last)",
      "File \u001b[1;32m~\\AppData\\Roaming\\Python\\Python312\\site-packages\\pandas\\compat\\_optional.py:132\u001b[0m, in \u001b[0;36mimport_optional_dependency\u001b[1;34m(name, extra, errors, min_version)\u001b[0m\n\u001b[0;32m    131\u001b[0m \u001b[38;5;28;01mtry\u001b[39;00m:\n\u001b[1;32m--> 132\u001b[0m     module \u001b[38;5;241m=\u001b[39m \u001b[43mimportlib\u001b[49m\u001b[38;5;241;43m.\u001b[39;49m\u001b[43mimport_module\u001b[49m\u001b[43m(\u001b[49m\u001b[43mname\u001b[49m\u001b[43m)\u001b[49m\n\u001b[0;32m    133\u001b[0m \u001b[38;5;28;01mexcept\u001b[39;00m \u001b[38;5;167;01mImportError\u001b[39;00m:\n",
      "File \u001b[1;32mc:\\Python312\\Lib\\importlib\\__init__.py:90\u001b[0m, in \u001b[0;36mimport_module\u001b[1;34m(name, package)\u001b[0m\n\u001b[0;32m     89\u001b[0m         level \u001b[38;5;241m+\u001b[39m\u001b[38;5;241m=\u001b[39m \u001b[38;5;241m1\u001b[39m\n\u001b[1;32m---> 90\u001b[0m \u001b[38;5;28;01mreturn\u001b[39;00m \u001b[43m_bootstrap\u001b[49m\u001b[38;5;241;43m.\u001b[39;49m\u001b[43m_gcd_import\u001b[49m\u001b[43m(\u001b[49m\u001b[43mname\u001b[49m\u001b[43m[\u001b[49m\u001b[43mlevel\u001b[49m\u001b[43m:\u001b[49m\u001b[43m]\u001b[49m\u001b[43m,\u001b[49m\u001b[43m \u001b[49m\u001b[43mpackage\u001b[49m\u001b[43m,\u001b[49m\u001b[43m \u001b[49m\u001b[43mlevel\u001b[49m\u001b[43m)\u001b[49m\n",
      "File \u001b[1;32m<frozen importlib._bootstrap>:1387\u001b[0m, in \u001b[0;36m_gcd_import\u001b[1;34m(name, package, level)\u001b[0m\n",
      "File \u001b[1;32m<frozen importlib._bootstrap>:1360\u001b[0m, in \u001b[0;36m_find_and_load\u001b[1;34m(name, import_)\u001b[0m\n",
      "File \u001b[1;32m<frozen importlib._bootstrap>:1324\u001b[0m, in \u001b[0;36m_find_and_load_unlocked\u001b[1;34m(name, import_)\u001b[0m\n",
      "\u001b[1;31mModuleNotFoundError\u001b[0m: No module named 'openpyxl'",
      "\nDuring handling of the above exception, another exception occurred:\n",
      "\u001b[1;31mImportError\u001b[0m                               Traceback (most recent call last)",
      "Cell \u001b[1;32mIn[6], line 7\u001b[0m\n\u001b[0;32m      4\u001b[0m     new_events \u001b[38;5;241m=\u001b[39m events_df[\u001b[38;5;241m~\u001b[39mevents_df[\u001b[38;5;124m'\u001b[39m\u001b[38;5;124mctftime_id\u001b[39m\u001b[38;5;124m'\u001b[39m]\u001b[38;5;241m.\u001b[39misin(existing_events[\u001b[38;5;124m'\u001b[39m\u001b[38;5;124mctftime_id\u001b[39m\u001b[38;5;124m'\u001b[39m])]\n\u001b[0;32m      5\u001b[0m     \u001b[38;5;28;01mreturn\u001b[39;00m new_events\n\u001b[1;32m----> 7\u001b[0m new_events \u001b[38;5;241m=\u001b[39m \u001b[43mfind_new_ctfs\u001b[49m\u001b[43m(\u001b[49m\u001b[43mevents_df\u001b[49m\u001b[38;5;241;43m=\u001b[39;49m\u001b[43mevents_df\u001b[49m\u001b[43m,\u001b[49m\u001b[43m \u001b[49m\u001b[43mfile_path\u001b[49m\u001b[38;5;241;43m=\u001b[39;49m\u001b[43mfile_path\u001b[49m\u001b[43m)\u001b[49m\n\u001b[0;32m      8\u001b[0m \u001b[38;5;28;01mif\u001b[39;00m new_events\u001b[38;5;241m.\u001b[39mshape[\u001b[38;5;241m0\u001b[39m] \u001b[38;5;241m==\u001b[39m \u001b[38;5;241m0\u001b[39m:\n\u001b[0;32m      9\u001b[0m     \u001b[38;5;28mprint\u001b[39m(\u001b[38;5;124m\"\u001b[39m\u001b[38;5;124mYou have already found all the interesting CTFs for the given time period.\u001b[39m\u001b[38;5;124m\"\u001b[39m)\n",
      "Cell \u001b[1;32mIn[6], line 2\u001b[0m, in \u001b[0;36mfind_new_ctfs\u001b[1;34m(events_df, file_path)\u001b[0m\n\u001b[0;32m      1\u001b[0m \u001b[38;5;28;01mdef\u001b[39;00m \u001b[38;5;21mfind_new_ctfs\u001b[39m(events_df, file_path):\n\u001b[1;32m----> 2\u001b[0m     existing_events \u001b[38;5;241m=\u001b[39m \u001b[43mpd\u001b[49m\u001b[38;5;241;43m.\u001b[39;49m\u001b[43mread_excel\u001b[49m\u001b[43m(\u001b[49m\u001b[43mfile_path\u001b[49m\u001b[43m)\u001b[49m\n\u001b[0;32m      3\u001b[0m     \u001b[38;5;66;03m# Find the unregistered events\u001b[39;00m\n\u001b[0;32m      4\u001b[0m     new_events \u001b[38;5;241m=\u001b[39m events_df[\u001b[38;5;241m~\u001b[39mevents_df[\u001b[38;5;124m'\u001b[39m\u001b[38;5;124mctftime_id\u001b[39m\u001b[38;5;124m'\u001b[39m]\u001b[38;5;241m.\u001b[39misin(existing_events[\u001b[38;5;124m'\u001b[39m\u001b[38;5;124mctftime_id\u001b[39m\u001b[38;5;124m'\u001b[39m])]\n",
      "File \u001b[1;32m~\\AppData\\Roaming\\Python\\Python312\\site-packages\\pandas\\io\\excel\\_base.py:504\u001b[0m, in \u001b[0;36mread_excel\u001b[1;34m(io, sheet_name, header, names, index_col, usecols, dtype, engine, converters, true_values, false_values, skiprows, nrows, na_values, keep_default_na, na_filter, verbose, parse_dates, date_parser, date_format, thousands, decimal, comment, skipfooter, storage_options, dtype_backend, engine_kwargs)\u001b[0m\n\u001b[0;32m    502\u001b[0m \u001b[38;5;28;01mif\u001b[39;00m \u001b[38;5;129;01mnot\u001b[39;00m \u001b[38;5;28misinstance\u001b[39m(io, ExcelFile):\n\u001b[0;32m    503\u001b[0m     should_close \u001b[38;5;241m=\u001b[39m \u001b[38;5;28;01mTrue\u001b[39;00m\n\u001b[1;32m--> 504\u001b[0m     io \u001b[38;5;241m=\u001b[39m \u001b[43mExcelFile\u001b[49m\u001b[43m(\u001b[49m\n\u001b[0;32m    505\u001b[0m \u001b[43m        \u001b[49m\u001b[43mio\u001b[49m\u001b[43m,\u001b[49m\n\u001b[0;32m    506\u001b[0m \u001b[43m        \u001b[49m\u001b[43mstorage_options\u001b[49m\u001b[38;5;241;43m=\u001b[39;49m\u001b[43mstorage_options\u001b[49m\u001b[43m,\u001b[49m\n\u001b[0;32m    507\u001b[0m \u001b[43m        \u001b[49m\u001b[43mengine\u001b[49m\u001b[38;5;241;43m=\u001b[39;49m\u001b[43mengine\u001b[49m\u001b[43m,\u001b[49m\n\u001b[0;32m    508\u001b[0m \u001b[43m        \u001b[49m\u001b[43mengine_kwargs\u001b[49m\u001b[38;5;241;43m=\u001b[39;49m\u001b[43mengine_kwargs\u001b[49m\u001b[43m,\u001b[49m\n\u001b[0;32m    509\u001b[0m \u001b[43m    \u001b[49m\u001b[43m)\u001b[49m\n\u001b[0;32m    510\u001b[0m \u001b[38;5;28;01melif\u001b[39;00m engine \u001b[38;5;129;01mand\u001b[39;00m engine \u001b[38;5;241m!=\u001b[39m io\u001b[38;5;241m.\u001b[39mengine:\n\u001b[0;32m    511\u001b[0m     \u001b[38;5;28;01mraise\u001b[39;00m \u001b[38;5;167;01mValueError\u001b[39;00m(\n\u001b[0;32m    512\u001b[0m         \u001b[38;5;124m\"\u001b[39m\u001b[38;5;124mEngine should not be specified when passing \u001b[39m\u001b[38;5;124m\"\u001b[39m\n\u001b[0;32m    513\u001b[0m         \u001b[38;5;124m\"\u001b[39m\u001b[38;5;124man ExcelFile - ExcelFile already has the engine set\u001b[39m\u001b[38;5;124m\"\u001b[39m\n\u001b[0;32m    514\u001b[0m     )\n",
      "File \u001b[1;32m~\\AppData\\Roaming\\Python\\Python312\\site-packages\\pandas\\io\\excel\\_base.py:1580\u001b[0m, in \u001b[0;36mExcelFile.__init__\u001b[1;34m(self, path_or_buffer, engine, storage_options, engine_kwargs)\u001b[0m\n\u001b[0;32m   1577\u001b[0m \u001b[38;5;28mself\u001b[39m\u001b[38;5;241m.\u001b[39mengine \u001b[38;5;241m=\u001b[39m engine\n\u001b[0;32m   1578\u001b[0m \u001b[38;5;28mself\u001b[39m\u001b[38;5;241m.\u001b[39mstorage_options \u001b[38;5;241m=\u001b[39m storage_options\n\u001b[1;32m-> 1580\u001b[0m \u001b[38;5;28mself\u001b[39m\u001b[38;5;241m.\u001b[39m_reader \u001b[38;5;241m=\u001b[39m \u001b[38;5;28;43mself\u001b[39;49m\u001b[38;5;241;43m.\u001b[39;49m\u001b[43m_engines\u001b[49m\u001b[43m[\u001b[49m\u001b[43mengine\u001b[49m\u001b[43m]\u001b[49m\u001b[43m(\u001b[49m\n\u001b[0;32m   1581\u001b[0m \u001b[43m    \u001b[49m\u001b[38;5;28;43mself\u001b[39;49m\u001b[38;5;241;43m.\u001b[39;49m\u001b[43m_io\u001b[49m\u001b[43m,\u001b[49m\n\u001b[0;32m   1582\u001b[0m \u001b[43m    \u001b[49m\u001b[43mstorage_options\u001b[49m\u001b[38;5;241;43m=\u001b[39;49m\u001b[43mstorage_options\u001b[49m\u001b[43m,\u001b[49m\n\u001b[0;32m   1583\u001b[0m \u001b[43m    \u001b[49m\u001b[43mengine_kwargs\u001b[49m\u001b[38;5;241;43m=\u001b[39;49m\u001b[43mengine_kwargs\u001b[49m\u001b[43m,\u001b[49m\n\u001b[0;32m   1584\u001b[0m \u001b[43m\u001b[49m\u001b[43m)\u001b[49m\n",
      "File \u001b[1;32m~\\AppData\\Roaming\\Python\\Python312\\site-packages\\pandas\\io\\excel\\_openpyxl.py:552\u001b[0m, in \u001b[0;36mOpenpyxlReader.__init__\u001b[1;34m(self, filepath_or_buffer, storage_options, engine_kwargs)\u001b[0m\n\u001b[0;32m    534\u001b[0m \u001b[38;5;129m@doc\u001b[39m(storage_options\u001b[38;5;241m=\u001b[39m_shared_docs[\u001b[38;5;124m\"\u001b[39m\u001b[38;5;124mstorage_options\u001b[39m\u001b[38;5;124m\"\u001b[39m])\n\u001b[0;32m    535\u001b[0m \u001b[38;5;28;01mdef\u001b[39;00m \u001b[38;5;21m__init__\u001b[39m(\n\u001b[0;32m    536\u001b[0m     \u001b[38;5;28mself\u001b[39m,\n\u001b[1;32m   (...)\u001b[0m\n\u001b[0;32m    539\u001b[0m     engine_kwargs: \u001b[38;5;28mdict\u001b[39m \u001b[38;5;241m|\u001b[39m \u001b[38;5;28;01mNone\u001b[39;00m \u001b[38;5;241m=\u001b[39m \u001b[38;5;28;01mNone\u001b[39;00m,\n\u001b[0;32m    540\u001b[0m ) \u001b[38;5;241m-\u001b[39m\u001b[38;5;241m>\u001b[39m \u001b[38;5;28;01mNone\u001b[39;00m:\n\u001b[0;32m    541\u001b[0m \u001b[38;5;250m    \u001b[39m\u001b[38;5;124;03m\"\"\"\u001b[39;00m\n\u001b[0;32m    542\u001b[0m \u001b[38;5;124;03m    Reader using openpyxl engine.\u001b[39;00m\n\u001b[0;32m    543\u001b[0m \n\u001b[1;32m   (...)\u001b[0m\n\u001b[0;32m    550\u001b[0m \u001b[38;5;124;03m        Arbitrary keyword arguments passed to excel engine.\u001b[39;00m\n\u001b[0;32m    551\u001b[0m \u001b[38;5;124;03m    \"\"\"\u001b[39;00m\n\u001b[1;32m--> 552\u001b[0m     \u001b[43mimport_optional_dependency\u001b[49m\u001b[43m(\u001b[49m\u001b[38;5;124;43m\"\u001b[39;49m\u001b[38;5;124;43mopenpyxl\u001b[39;49m\u001b[38;5;124;43m\"\u001b[39;49m\u001b[43m)\u001b[49m\n\u001b[0;32m    553\u001b[0m     \u001b[38;5;28msuper\u001b[39m()\u001b[38;5;241m.\u001b[39m\u001b[38;5;21m__init__\u001b[39m(\n\u001b[0;32m    554\u001b[0m         filepath_or_buffer,\n\u001b[0;32m    555\u001b[0m         storage_options\u001b[38;5;241m=\u001b[39mstorage_options,\n\u001b[0;32m    556\u001b[0m         engine_kwargs\u001b[38;5;241m=\u001b[39mengine_kwargs,\n\u001b[0;32m    557\u001b[0m     )\n",
      "File \u001b[1;32m~\\AppData\\Roaming\\Python\\Python312\\site-packages\\pandas\\compat\\_optional.py:135\u001b[0m, in \u001b[0;36mimport_optional_dependency\u001b[1;34m(name, extra, errors, min_version)\u001b[0m\n\u001b[0;32m    133\u001b[0m \u001b[38;5;28;01mexcept\u001b[39;00m \u001b[38;5;167;01mImportError\u001b[39;00m:\n\u001b[0;32m    134\u001b[0m     \u001b[38;5;28;01mif\u001b[39;00m errors \u001b[38;5;241m==\u001b[39m \u001b[38;5;124m\"\u001b[39m\u001b[38;5;124mraise\u001b[39m\u001b[38;5;124m\"\u001b[39m:\n\u001b[1;32m--> 135\u001b[0m         \u001b[38;5;28;01mraise\u001b[39;00m \u001b[38;5;167;01mImportError\u001b[39;00m(msg)\n\u001b[0;32m    136\u001b[0m     \u001b[38;5;28;01mreturn\u001b[39;00m \u001b[38;5;28;01mNone\u001b[39;00m\n\u001b[0;32m    138\u001b[0m \u001b[38;5;66;03m# Handle submodules: if we have submodule, grab parent module from sys.modules\u001b[39;00m\n",
      "\u001b[1;31mImportError\u001b[0m: Missing optional dependency 'openpyxl'.  Use pip or conda to install openpyxl."
     ]
    }
   ],
   "source": [
    "def find_new_ctfs(events_df, file_path):\n",
    "    existing_events = pd.read_excel(file_path)\n",
    "    # Find the unregistered events\n",
    "    new_events = events_df[~events_df['ctftime_id'].isin(existing_events['ctftime_id'])]\n",
    "    return new_events\n",
    "\n",
    "new_events = find_new_ctfs(events_df=events_df, file_path=file_path)\n",
    "if new_events.shape[0] == 0:\n",
    "    print(\"You have already found all the interesting CTFs for the given time period.\")\n",
    "new_events"
   ]
  },
  {
   "cell_type": "markdown",
   "metadata": {},
   "source": [
    "## Store The Future Events \n",
    "\n",
    "This function takes two arguments:\n",
    "\n",
    "- `events_df`: The cleaned and processed DataFrame containing the event data.\n",
    "- `file_path`: The file path of the Excel file to save the data to.\n",
    "\n",
    "The function saves the DataFrame to the specified Excel file using the to_excel() method."
   ]
  },
  {
   "cell_type": "code",
   "execution_count": 7,
   "metadata": {},
   "outputs": [
    {
     "name": "stdout",
     "output_type": "stream",
     "text": [
      "Future events stored in CSV file c:\\Users\\Tristan Querton\\dev\\GitHub\\CTFTime-Integration\\artifacts\\events.xlsx\n"
     ]
    }
   ],
   "source": [
    "def save_2_xl(events_df, file_path):\n",
    "    # Save DataFrame to Excel file\n",
    "    events_df.to_excel(file_path, index=False)\n",
    "\n",
    "save_2_xl(events_df=events_df, file_path=file_path)\n",
    "print(f\"Future events stored in CSV file {file_path}\")"
   ]
  },
  {
   "cell_type": "markdown",
   "metadata": {},
   "source": [
    "# Obtain Team Ranking\n",
    "\n",
    "We also want to retrieve the information of a team based on the team ID. to facilitate the manipulation of the data we will create an object Team that will contain the information of the team. This object will have methods to retrieve the ranking of the team for a given year.\n",
    "\n",
    "## Team Object\n",
    "\n",
    "This class represents a team and contains the following attributes:\n",
    "- `team_id`: The ID of the team.\n",
    "- `primary_alias`: The primary alias of the team.\n",
    "- `name`: The name of the team.\n",
    "- `country`: The country of the team.\n",
    "- `rating`: The rating of the team trough the years.\n",
    "- `logo`: The logo of the team.\n",
    "- `academic` : A boolean indicating if the team is an academic team.\n",
    "- `aliases` : A list of aliases of the team.\n"
   ]
  },
  {
   "cell_type": "code",
   "execution_count": 7,
   "metadata": {},
   "outputs": [],
   "source": [
    "class Team:\n",
    "    \"\"\"\n",
    "    A class to represent a CTF Time team.\n",
    "    \n",
    "    Attributes:     \n",
    "        - `team_id`: The ID of the team.\n",
    "        - `primary_alias`: The primary alias of the team.\n",
    "        - `name`: The name of the team.\n",
    "        - `country`: The country of the team.\n",
    "        - `rating`: The rating of the team trough the years.\n",
    "        - `logo`: The logo of the team.\n",
    "        - `academic` : A boolean indicating if the team is an academic team.\n",
    "        - `aliases` : A list of aliases of the team.\n",
    "    \n",
    "    Methods: \n",
    "        - `display()`: Display the name of the team.\n",
    "        - `get_team_rank_given_year(year)`: Get the rank of the team for a given year.\n",
    "    \"\"\"\n",
    "        \n",
    "    def __init__(self, team_id, primary_alias, name, rating, country, logo, aliases, academic):\n",
    "        self.team_id = team_id\n",
    "        self.primary_alias = primary_alias\n",
    "        self.name = name\n",
    "        self.rating = rating\n",
    "        self.country = country\n",
    "        self.logo = logo\n",
    "        self.aliases = aliases\n",
    "        self.academic = academic\n",
    "        \n",
    "    def display(self):\n",
    "        print(f\"Team {self.name} with id {self.team_id} and rating {self.rating}\")\n",
    "        \n",
    "    def get_team_rank_given_year(self, year):\n",
    "        year = str(year)\n",
    "        year_ratings = self.rating.get(year, None) \n",
    "        return year_ratings"
   ]
  },
  {
   "cell_type": "markdown",
   "metadata": {},
   "source": [
    "## Get Team Info\n",
    "\n",
    "This function takes a single argument team_id, which specifies the ID of the team to retrieve information for. The function sends a GET request to the CTFtime API with the appropriate parameters and retrieves the JSON response. The response is then parsed and returned as a dictionary containing the team data."
   ]
  },
  {
   "cell_type": "code",
   "execution_count": 8,
   "metadata": {},
   "outputs": [],
   "source": [
    "def get_team_info(team_id):\n",
    "    \"\"\"\n",
    "    Get the information of a team given its ID.\n",
    "    \n",
    "    Parameters:\n",
    "        - `team_id`: The ID of the team.\n",
    "        \n",
    "    Returns:\n",
    "        - A JSON string containing the information of the team.\n",
    "    \"\"\"\n",
    "    \n",
    "    # Set the API endpoint and parameters\n",
    "    url = '/api/v1/teams/' + team_id + '/'\n",
    "\n",
    "    # Create an HTTPS connection to the CTFtime API\n",
    "    conn = http.client.HTTPSConnection('ctftime.org')\n",
    "\n",
    "    # Send a GET request to the API endpoint\n",
    "    conn.request('GET', url)\n",
    "\n",
    "    # Get the response from the API\n",
    "    response = conn.getresponse()\n",
    "\n",
    "    # Read the response body\n",
    "    data = response.read().decode('utf-8')\n",
    "\n",
    "    return data"
   ]
  },
  {
   "cell_type": "markdown",
   "metadata": {},
   "source": [
    "## Parsing Team Info\n",
    "\n",
    "This function takes a single argument team, which is string containing the json team data. The function extracts the relevant information from the dictionary and creates a Team object with the data. The function returns the Team object."
   ]
  },
  {
   "cell_type": "code",
   "execution_count": 9,
   "metadata": {},
   "outputs": [],
   "source": [
    "def parse_team_info(team):\n",
    "    \"\"\"\n",
    "    Parse the JSON string containing the information of a team into a Team object.\n",
    "    \n",
    "    Parameters:\n",
    "        - `team`: A JSON string containing the information of the team.\n",
    "    \n",
    "    Returns:\n",
    "        - A Team object.\n",
    "    \"\"\"\n",
    "    \n",
    "    # Creates a dictionary from the JSON string\n",
    "    team_dict = json.loads(team)\n",
    "    \n",
    "    # Create a Team object\n",
    "    team = Team(team_id = team_dict['id'],\n",
    "                primary_alias = team_dict['primary_alias'],\n",
    "                name = team_dict['name'],\n",
    "                rating = team_dict['rating'],\n",
    "                country = team_dict['country'],\n",
    "                logo = team_dict['logo'],\n",
    "                aliases = team_dict['aliases'],\n",
    "                academic = team_dict['academic'])\n",
    "    return team"
   ]
  },
  {
   "cell_type": "markdown",
   "metadata": {},
   "source": [
    "## Get Team Object\n",
    "\n",
    "This function takes a single argument team_id, which specifies the ID of the team to retrieve information for. The function calls the Get Team Info function to retrieve the team data and then calls the Parsing Team Info function to create a Team object. The function returns the Team object."
   ]
  },
  {
   "cell_type": "code",
   "execution_count": 10,
   "metadata": {},
   "outputs": [],
   "source": [
    "def get_team_object (team_id = team_id):\n",
    "    \"\"\"\n",
    "    Get the Team object given the ID of the team. by default it will use the id defined in the variables.\n",
    "    \n",
    "    Parameters:\n",
    "        - `team_id`: The ID of the team.\n",
    "        \n",
    "    Returns:\n",
    "        - A Team object.\n",
    "    \"\"\"\n",
    "    team = get_team_info(team_id)\n",
    "    return parse_team_info(team)"
   ]
  },
  {
   "cell_type": "code",
   "execution_count": 12,
   "metadata": {},
   "outputs": [
    {
     "data": {
      "text/plain": [
       "{'organizer_points': 0, 'rating_points': 58.2659306768, 'rating_place': 851}"
      ]
     },
     "execution_count": 12,
     "metadata": {},
     "output_type": "execute_result"
    }
   ],
   "source": [
    "team = get_team_object()\n",
    "team.get_team_rank_given_year(2024)"
   ]
  },
  {
   "cell_type": "markdown",
   "metadata": {},
   "source": [
    "# Get Top Teams Ranking\n",
    "\n",
    "This function takes a single argument year, which specifies the year to retrieve the top teams ranking for. The function sends a GET request to the CTFtime API with the appropriate parameters and retrieves the JSON response. The response is then parsed and returned as a list of dictionaries containing the team data. The API call retrieves the top 10 teams for the specified year."
   ]
  },
  {
   "cell_type": "code",
   "execution_count": 13,
   "metadata": {},
   "outputs": [],
   "source": [
    "def get_top_teams():\n",
    "    \"\"\"\n",
    "    Get the information of the top teams.\n",
    "    \n",
    "    Returns:\n",
    "        - A JSON string containing the information of the top teams.\n",
    "    \"\"\"\n",
    "\n",
    "    # Set the API endpoint and parameters\n",
    "    url = '/api/v1/top/'\n",
    "    params = {\n",
    "        'limit': 10\n",
    "    }\n",
    "\n",
    "    # Build the query string\n",
    "    query_string = '?' + '&'.join([f'{key}={value}' for key, value in params.items()])\n",
    "\n",
    "    # Create an HTTPS connection to the CTFtime API\n",
    "    conn = http.client.HTTPSConnection('ctftime.org')\n",
    "\n",
    "    # Send a GET request to the API endpoint\n",
    "    conn.request('GET', url + query_string)\n",
    "\n",
    "    # Get the response from the API\n",
    "    response = conn.getresponse()\n",
    "\n",
    "    # Read the response body\n",
    "    data = response.read().decode('utf-8')\n",
    "\n",
    "    # Parse the JSON data\n",
    "    return json.loads(data)\n",
    "\n",
    "def parse_top_teams(top_teams):\n",
    "    \"\"\"\n",
    "    Parse the JSON string containing the information of the top teams into a list of Team objects.\n",
    "    \n",
    "    Parameters:\n",
    "        - `top_teams`: A JSON string containing the information of the top teams.\n",
    "    \n",
    "    Returns:\n",
    "        - A dataframe containing the top teams.\n",
    "    \"\"\"\n",
    "    \n",
    "    \n",
    "    # Obtain current year: \n",
    "    now = datetime.datetime.now()\n",
    "    current_year = now.year\n",
    "    \n",
    "    # Creates a dictionary from the JSON string\n",
    "    content = top_teams.get(str(current_year), None)\n",
    "    \n",
    "    # Transform to df and return it\n",
    "    return pd.DataFrame(content)\n",
    "    \n",
    "    "
   ]
  },
  {
   "cell_type": "code",
   "execution_count": 14,
   "metadata": {},
   "outputs": [
    {
     "data": {
      "text/html": [
       "<div>\n",
       "<style scoped>\n",
       "    .dataframe tbody tr th:only-of-type {\n",
       "        vertical-align: middle;\n",
       "    }\n",
       "\n",
       "    .dataframe tbody tr th {\n",
       "        vertical-align: top;\n",
       "    }\n",
       "\n",
       "    .dataframe thead th {\n",
       "        text-align: right;\n",
       "    }\n",
       "</style>\n",
       "<table border=\"1\" class=\"dataframe\">\n",
       "  <thead>\n",
       "    <tr style=\"text-align: right;\">\n",
       "      <th></th>\n",
       "    </tr>\n",
       "  </thead>\n",
       "  <tbody>\n",
       "  </tbody>\n",
       "</table>\n",
       "</div>"
      ],
      "text/plain": [
       "Empty DataFrame\n",
       "Columns: []\n",
       "Index: []"
      ]
     },
     "execution_count": 14,
     "metadata": {},
     "output_type": "execute_result"
    }
   ],
   "source": [
    "top_team_data = get_top_teams()\n",
    "top_teams_df = parse_top_teams(top_team_data)\n",
    "top_teams_df"
   ]
  }
 ],
 "metadata": {
  "kernelspec": {
   "display_name": "Python 3",
   "language": "python",
   "name": "python3"
  },
  "language_info": {
   "codemirror_mode": {
    "name": "ipython",
    "version": 3
   },
   "file_extension": ".py",
   "mimetype": "text/x-python",
   "name": "python",
   "nbconvert_exporter": "python",
   "pygments_lexer": "ipython3",
   "version": "3.12.8"
  }
 },
 "nbformat": 4,
 "nbformat_minor": 2
}
