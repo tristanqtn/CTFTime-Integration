{
 "cells": [
  {
   "cell_type": "code",
   "execution_count": null,
   "metadata": {},
   "outputs": [],
   "source": [
    "# Importing the necessary libraries\n",
    "import http.client\n",
    "import datetime\n",
    "import json\n",
    "import pandas as pd\n",
    "import os"
   ]
  },
  {
   "cell_type": "code",
   "execution_count": null,
   "metadata": {},
   "outputs": [],
   "source": [
    "# Variables\n",
    "days = 30 # Day limit: the code will browse for CTFs from today until the given limit \n",
    "restriction_list = ['Open', 'Individual', 'High-school'] # Filter the CTF you're interested in depending on the restriction types\n",
    "useless_columns = ['ctf_id','weight', 'logo', 'live_feed', 'format', 'participants', 'public_votable', 'is_votable_now', 'prizes', 'organizers', 'format_id', 'duration', 'onsite', 'location', 'ctftime_url', 'restrictions'] # Columns you don't need for your integration\n",
    "artifact_location = \"\\\\artifacts\\\\events.xlsx\""
   ]
  },
  {
   "cell_type": "code",
   "execution_count": null,
   "metadata": {},
   "outputs": [],
   "source": [
    "def get_future_events(day_limit):\n",
    "    # Get the current date and time\n",
    "    now = datetime.datetime.now(datetime.UTC)\n",
    "\n",
    "    # Calculate the start and finish timestamps\n",
    "    start_timestamp = int(now.timestamp())\n",
    "    finish_timestamp = int((now + datetime.timedelta(days=day_limit)).replace(tzinfo=datetime.timezone.utc).timestamp())\n",
    "\n",
    "    # Set the API endpoint and parameters\n",
    "    url = '/api/v1/events/'\n",
    "    params = {\n",
    "        'limit': 500,\n",
    "        'start': start_timestamp,\n",
    "        'finish': finish_timestamp\n",
    "    }\n",
    "\n",
    "    # Build the query string\n",
    "    query_string = '?' + '&'.join([f'{key}={value}' for key, value in params.items()])\n",
    "\n",
    "    # Create an HTTPS connection to the CTFtime API\n",
    "    conn = http.client.HTTPSConnection('ctftime.org')\n",
    "\n",
    "    # Send a GET request to the API endpoint\n",
    "    conn.request('GET', url + query_string)\n",
    "\n",
    "    # Get the response from the API\n",
    "    response = conn.getresponse()\n",
    "\n",
    "    # Read the response body\n",
    "    data = response.read().decode('utf-8')\n",
    "\n",
    "    # Parse the JSON data\n",
    "    return json.loads(data)\n",
    "\n",
    "events = get_future_events(day_limit=days)\n",
    "print(f\"Retrieved {len(events)} CTFs for the next {days} days\")\n",
    "\n"
   ]
  },
  {
   "cell_type": "code",
   "execution_count": null,
   "metadata": {},
   "outputs": [],
   "source": [
    "def clean_events(events, restriction_list, useless_columns):\n",
    "    # Converting list to dataframme\n",
    "    events_df = pd.DataFrame(events)\n",
    "\n",
    "    # Extract organizer named from organizer dictionary\n",
    "    events_df['organizer_name'] = events_df['organizers'].apply(lambda x: x[0]['name'])\n",
    "\n",
    "    # Computing the total duration of the event in hours and store it in a new column\n",
    "    events_df['duration_hours'] = events_df['duration'].apply(lambda x: x['hours'] + x['days']*24)\n",
    "\n",
    "    # Removing all onsite events\n",
    "    events_df = events_df[events_df['onsite'] == False]\n",
    "\n",
    "    # Keep only ctf where restictions are in $restriction_list\n",
    "    events_df = events_df[events_df['restrictions'].apply(lambda x: x in restriction_list)]\n",
    "\n",
    "    for restriction in restriction_list:\n",
    "        # Add a boolean column named like the restriction that takes 1 if the value in restrictions is equal to the restriction\n",
    "        events_df[restriction.lower()] = events_df['restrictions'].apply(lambda x: x == restriction)\n",
    "\n",
    "    # Drop useless columns\n",
    "    events_df = events_df.drop(useless_columns, axis=1)\n",
    "\n",
    "    # Rename column id into ctftime_id\n",
    "    events_df = events_df.rename(columns={'id': 'ctftime_id'})\n",
    "\n",
    "    return events_df\n",
    "\n",
    "events_df = clean_events(events=events, restriction_list=restriction_list, useless_columns=useless_columns)    \n",
    "print(f\"After data cleaning we found {events_df.shape[0]} interesting CTFs for you.\")"
   ]
  },
  {
   "cell_type": "code",
   "execution_count": null,
   "metadata": {},
   "outputs": [],
   "source": [
    "# Print all interesting events\n",
    "events_df"
   ]
  },
  {
   "cell_type": "code",
   "execution_count": null,
   "metadata": {},
   "outputs": [],
   "source": [
    "def save_2_xl(events_df, artifact_location):\n",
    "    # Get current working directory\n",
    "    cwd = os.getcwd()\n",
    "    # Concatenate the final file path\n",
    "    file_path = cwd+artifact_location\n",
    "    # Save DataFrame to Excel file\n",
    "    events_df.to_excel(file_path, index=False)\n",
    "    \n",
    "    return file_path\n",
    "\n",
    "file_path = save_2_xl(events_df=events_df, artifact_location=artifact_location)\n",
    "print(f\"Future events stored in CSV file {file_path}\")"
   ]
  }
 ],
 "metadata": {
  "kernelspec": {
   "display_name": "Python 3",
   "language": "python",
   "name": "python3"
  },
  "language_info": {
   "codemirror_mode": {
    "name": "ipython",
    "version": 3
   },
   "file_extension": ".py",
   "mimetype": "text/x-python",
   "name": "python",
   "nbconvert_exporter": "python",
   "pygments_lexer": "ipython3",
   "version": "3.12.3"
  }
 },
 "nbformat": 4,
 "nbformat_minor": 2
}
