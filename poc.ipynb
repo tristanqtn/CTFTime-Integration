{
 "cells": [
  {
   "cell_type": "markdown",
   "metadata": {},
   "source": [
    "# Proof of Concept for the CTF Time API integration\n",
    "\n",
    "This program retrieves a list of future CTF events from the CTFtime API, cleans and processes the data, and saves it to an Excel file. The program is written in Python and uses the http.client, json, pandas, and os libraries.\n",
    "\n",
    "## Imports"
   ]
  },
  {
   "cell_type": "code",
   "execution_count": null,
   "metadata": {},
   "outputs": [],
   "source": [
    "# Importing the necessary libraries\n",
    "import http.client\n",
    "import datetime\n",
    "import json\n",
    "import pandas as pd\n",
    "import os"
   ]
  },
  {
   "cell_type": "markdown",
   "metadata": {},
   "source": [
    "## Variables\n",
    "\n",
    "Define in the cell below the variables required for this program. In the final project those variables should be parametrized within the program or defined has environnement vairables depending on the running environnement."
   ]
  },
  {
   "cell_type": "code",
   "execution_count": null,
   "metadata": {},
   "outputs": [],
   "source": [
    "# Variables\n",
    "days = 30 # Day limit: the code will browse for CTFs from today until the given limit \n",
    "restriction_list = ['Open', 'Individual', 'High-school'] # Filter the CTF you're interested in depending on the restriction types\n",
    "useless_columns = ['ctf_id','weight', 'logo', 'live_feed', 'format', 'participants', 'public_votable', 'is_votable_now', 'prizes', 'organizers', 'format_id', 'duration', 'onsite', 'location', 'ctftime_url', 'restrictions'] # Columns you don't need for your integration\n",
    "artifact_location = \"\\\\artifacts\\\\events.xlsx\"\n",
    "\n",
    "# Get current working directory\n",
    "cwd = os.getcwd()\n",
    "# Concatenate the final file path\n",
    "file_path = cwd+artifact_location"
   ]
  },
  {
   "cell_type": "markdown",
   "metadata": {},
   "source": [
    "# Retrieving Future Events\n",
    "\n",
    "This function takes a single argument day_limit, which specifies the number of days in the future to retrieve events for. The function sends a GET request to the CTFtime API with the appropriate parameters and retrieves the JSON response. The response is then parsed and returned as a list of dictionaries containing the event data."
   ]
  },
  {
   "cell_type": "code",
   "execution_count": null,
   "metadata": {},
   "outputs": [],
   "source": [
    "def get_future_events(day_limit):\n",
    "    # Get the current date and time\n",
    "    now = datetime.datetime.now(datetime.UTC)\n",
    "\n",
    "    # Calculate the start and finish timestamps\n",
    "    start_timestamp = int(now.timestamp())\n",
    "    finish_timestamp = int((now + datetime.timedelta(days=day_limit)).replace(tzinfo=datetime.timezone.utc).timestamp())\n",
    "\n",
    "    # Set the API endpoint and parameters\n",
    "    url = '/api/v1/events/'\n",
    "    params = {\n",
    "        'limit': 500,\n",
    "        'start': start_timestamp,\n",
    "        'finish': finish_timestamp\n",
    "    }\n",
    "\n",
    "    # Build the query string\n",
    "    query_string = '?' + '&'.join([f'{key}={value}' for key, value in params.items()])\n",
    "\n",
    "    # Create an HTTPS connection to the CTFtime API\n",
    "    conn = http.client.HTTPSConnection('ctftime.org')\n",
    "\n",
    "    # Send a GET request to the API endpoint\n",
    "    conn.request('GET', url + query_string)\n",
    "\n",
    "    # Get the response from the API\n",
    "    response = conn.getresponse()\n",
    "\n",
    "    # Read the response body\n",
    "    data = response.read().decode('utf-8')\n",
    "\n",
    "    # Parse the JSON data\n",
    "    return json.loads(data)\n",
    "\n",
    "events = get_future_events(day_limit=days)\n",
    "print(f\"Retrieved {len(events)} CTFs for the next {days} days\")\n",
    "\n"
   ]
  },
  {
   "cell_type": "markdown",
   "metadata": {},
   "source": [
    "## Cleaning The Response\n",
    "\n",
    "This function takes three arguments:\n",
    "\n",
    "- `events_df`: The DataFrame containing the event data.\n",
    "- `restriction_list`: The list of allowed restrictions for the events.\n",
    "- `useless_columns`: The list of columns to drop from the DataFrame.\n",
    "\n",
    "The function first extracts the organizer name from the organizer dictionary and stores it in a new column. It then computes the total duration of the event in hours and stores it in a new column. The function removes all onsite events and keeps only those events where the restrictions are in the specified restriction_list. It then adds a boolean column for each restriction in the restriction_list, indicating whether the event has that restriction. The function drops the useless columns specified in useless_columns and renames the id column to ctftime_id. The cleaned and processed DataFrame is then returned."
   ]
  },
  {
   "cell_type": "code",
   "execution_count": null,
   "metadata": {},
   "outputs": [],
   "source": [
    "def clean_events(events, restriction_list, useless_columns):\n",
    "    # Converting list to dataframme\n",
    "    events_df = pd.DataFrame(events)\n",
    "\n",
    "    # Extract organizer named from organizer dictionary\n",
    "    events_df['organizer_name'] = events_df['organizers'].apply(lambda x: x[0]['name'])\n",
    "\n",
    "    # Computing the total duration of the event in hours and store it in a new column\n",
    "    events_df['duration_hours'] = events_df['duration'].apply(lambda x: x['hours'] + x['days']*24)\n",
    "\n",
    "    # Removing all onsite events\n",
    "    events_df = events_df[events_df['onsite'] == False]\n",
    "\n",
    "    # Keep only ctf where restictions are in $restriction_list\n",
    "    events_df = events_df[events_df['restrictions'].apply(lambda x: x in restriction_list)]\n",
    "\n",
    "    for restriction in restriction_list:\n",
    "        # Add a boolean column named like the restriction that takes 1 if the value in restrictions is equal to the restriction\n",
    "        events_df[restriction.lower()] = events_df['restrictions'].apply(lambda x: x == restriction)\n",
    "\n",
    "    # Drop useless columns\n",
    "    events_df = events_df.drop(useless_columns, axis=1)\n",
    "\n",
    "    # Rename column id into ctftime_id\n",
    "    events_df = events_df.rename(columns={'id': 'ctftime_id'})\n",
    "\n",
    "    return events_df\n",
    "\n",
    "events_df = clean_events(events=events, restriction_list=restriction_list, useless_columns=useless_columns)    \n",
    "print(f\"After data cleaning we found {events_df.shape[0]} interesting CTFs for you.\")"
   ]
  },
  {
   "cell_type": "code",
   "execution_count": null,
   "metadata": {},
   "outputs": [],
   "source": [
    "# Print all interesting events\n",
    "events_df"
   ]
  },
  {
   "cell_type": "markdown",
   "metadata": {},
   "source": [
    "## Find New Events\n",
    "\n",
    "This function takes two arguments:\n",
    "\n",
    "- `events_df`: The DataFrame containing the event data.\n",
    "- `file_path`: The list of allowed restrictions for the events.\n",
    "\n",
    "The goal here is to determine if an event has already been stored in the Excel or if the event retrieved isn't saved in Excel. This function should be used to alert user on the upcoming CTFs they don't already know.\n"
   ]
  },
  {
   "cell_type": "code",
   "execution_count": null,
   "metadata": {},
   "outputs": [],
   "source": [
    "def find_new_ctfs(events_df, file_path):\n",
    "    existing_events = pd.read_excel(file_path)\n",
    "    # Find the unregistered events\n",
    "    new_events = events_df[~events_df['ctftime_id'].isin(existing_events['ctftime_id'])]\n",
    "    return new_events\n",
    "\n",
    "new_events = find_new_ctfs(events_df=events_df, file_path=file_path)\n",
    "if new_events.shape[0] == 0:\n",
    "    print(\"You have already found all the interesting CTFs for the given time period.\")\n",
    "new_events"
   ]
  },
  {
   "cell_type": "markdown",
   "metadata": {},
   "source": [
    "## Store The Future Events \n",
    "\n",
    "This function takes two arguments:\n",
    "\n",
    "- `events_df`: The cleaned and processed DataFrame containing the event data.\n",
    "- `file_path`: The file path of the Excel file to save the data to.\n",
    "\n",
    "The function saves the DataFrame to the specified Excel file using the to_excel() method."
   ]
  },
  {
   "cell_type": "code",
   "execution_count": null,
   "metadata": {},
   "outputs": [],
   "source": [
    "def save_2_xl(events_df, file_path):\n",
    "    # Save DataFrame to Excel file\n",
    "    events_df.to_excel(file_path, index=False)\n",
    "\n",
    "save_2_xl(events_df=events_df, file_path=file_path)\n",
    "print(f\"Future events stored in CSV file {file_path}\")"
   ]
  }
 ],
 "metadata": {
  "kernelspec": {
   "display_name": "Python 3",
   "language": "python",
   "name": "python3"
  },
  "language_info": {
   "codemirror_mode": {
    "name": "ipython",
    "version": 3
   },
   "file_extension": ".py",
   "mimetype": "text/x-python",
   "name": "python",
   "nbconvert_exporter": "python",
   "pygments_lexer": "ipython3",
   "version": "3.12.3"
  }
 },
 "nbformat": 4,
 "nbformat_minor": 2
}
